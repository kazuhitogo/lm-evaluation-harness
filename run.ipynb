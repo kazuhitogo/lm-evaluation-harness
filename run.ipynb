{
 "cells": [
  {
   "cell_type": "code",
   "execution_count": null,
   "id": "dd7f8872-a3ba-4505-a354-b599a0c1827a",
   "metadata": {
    "tags": []
   },
   "outputs": [],
   "source": [
    "import os\n",
    "import json\n",
    "import shutil"
   ]
  },
  {
   "cell_type": "code",
   "execution_count": null,
   "id": "2913e542-fe24-45da-8519-586aa2923877",
   "metadata": {
    "tags": []
   },
   "outputs": [],
   "source": [
    "train_raw_file_name = 'train-v1.1.json'\n",
    "valid_raw_file_name = 'valid-v1.1.json'\n",
    "base_url = 'https://github.com/yahoojapan/JGLUE/raw/main/datasets/jsquad-v1.1/'\n",
    "data_dir = 'data/'\n",
    "!rm -rf {data_dir}\n",
    "!mkdir -p {data_dir}\n",
    "!echo {base_url}{train_raw_file_name}\n",
    "!wget {base_url}{train_raw_file_name}\n",
    "!mv {train_raw_file_name} {data_dir}\n",
    "!wget {base_url}{valid_raw_file_name}\n",
    "!mv {valid_raw_file_name} {data_dir}"
   ]
  },
  {
   "cell_type": "code",
   "execution_count": null,
   "id": "97aced2e-ae09-4474-97cb-41ef846785a1",
   "metadata": {
    "scrolled": true,
    "tags": []
   },
   "outputs": [],
   "source": [
    "def transform(path):\n",
    "    with open(path) as f:\n",
    "        raw_data = json.loads(f.read())\n",
    "    \n",
    "    \n",
    "    title_index = 0\n",
    "    qas = []\n",
    "    for title in a['data']:\n",
    "        paragraph_index = 0\n",
    "        for paragraph in title['paragraphs']:\n",
    "            context = paragraph['context']\n",
    "            question_index = 0\n",
    "            for question in paragraph['qas']:\n",
    "                instruction = question['question']\n",
    "                answer = question['answers'][0]['text']\n",
    "                question_id = question['id']\n",
    "                qa = {\n",
    "                    'title_index' : title_index,\n",
    "                    'paragraph_index' : paragraph_index,\n",
    "                    'question_index' : question_index,\n",
    "                    'input' : context,\n",
    "                    'output' : answer,\n",
    "                    'instruction' : instruction,\n",
    "                    'question_id' : question_id\n",
    "                }\n",
    "                qas.append(qa)\n",
    "                question_index += 1\n",
    "            paragraph_index += 1\n",
    "        title_index += 1\n",
    "    \n",
    "    return qas\n",
    "\n",
    "train_data = transform(os.path.join(data_dir,train_raw_file_name))\n",
    "valid_data = transform(os.path.join(data_dir,valid_raw_file_name))"
   ]
  },
  {
   "cell_type": "code",
   "execution_count": null,
   "id": "93bcaa01-c172-41dd-96c9-9084490d103f",
   "metadata": {
    "tags": []
   },
   "outputs": [],
   "source": [
    "len(train_data)"
   ]
  },
  {
   "cell_type": "code",
   "execution_count": null,
   "id": "70c3b949-5d73-4887-8bab-17e120a2a199",
   "metadata": {
    "tags": []
   },
   "outputs": [],
   "source": [
    "train_data_tmp = []\n",
    "split_num = 5\n",
    "\n",
    "for i in range(split_num):\n",
    "    for x in train_data:\n",
    "        if x['question_index'] == i:\n",
    "            train_data_tmp.append(x)\n",
    "    with open(os.path.join(data_dir,f'p{str(i)}.json'),'wt') as f:\n",
    "        f.write(json.dumps(train_data_tmp))"
   ]
  },
  {
   "cell_type": "code",
   "execution_count": null,
   "id": "5c4adfff-3abb-4ce8-a53e-f1e84cadd593",
   "metadata": {
    "tags": []
   },
   "outputs": [],
   "source": [
    "import sagemaker, boto3, json\n",
    "from sagemaker import get_execution_role\n",
    "from sagemaker.pytorch.model import PyTorchModel\n",
    "from sagemaker.huggingface import HuggingFace\n",
    "\n",
    "role = get_execution_role()\n",
    "region = boto3.Session().region_name\n",
    "sess = sagemaker.Session()\n",
    "bucket = sess.default_bucket()\n",
    "\n",
    "sagemaker.__version__"
   ]
  },
  {
   "cell_type": "code",
   "execution_count": null,
   "id": "a4901bdb-1ac8-4f8f-bfce-e4e77c377617",
   "metadata": {
    "tags": []
   },
   "outputs": [],
   "source": [
    "input_s3_list = []\n",
    "for i in range(split_num):\n",
    "    input_train = sess.upload_data(\n",
    "        path=f\"./data/p{str(i)}.json\",\n",
    "        key_prefix=\"jsquad\"\n",
    "    )\n",
    "    input_s3_list.append(input_train)"
   ]
  },
  {
   "cell_type": "code",
   "execution_count": null,
   "id": "e5d4ba99-ef98-432e-9a90-323b8de51e3f",
   "metadata": {
    "tags": []
   },
   "outputs": [],
   "source": [
    "input_s3_list[3]"
   ]
  },
  {
   "cell_type": "code",
   "execution_count": null,
   "id": "6e6519a6-a088-4ccf-9f20-609c069a9b04",
   "metadata": {
    "tags": []
   },
   "outputs": [],
   "source": [
    "for i,s3_uri in enumerate(input_s3_list):\n",
    "    base_job_name=f\"jsquad-eval-{str(i)}\"\n",
    "    hyperparameters={\n",
    "        'base_model':'rinna/japanese-gpt-neox-3.6b',\n",
    "        'load_in_8bit': True,\n",
    "        # 'load_in_4bit': True,\n",
    "        'data_path': f'/opt/ml/input/data/train/p{str(i)}.json',\n",
    "        'num_epochs': 3, # default 3\n",
    "        'cutoff_len': 512,\n",
    "        'group_by_length': False,\n",
    "        'output_dir': '/opt/ml/model',\n",
    "        # 'resume_from_checkpoint': '/opt/ml/checkpoints',\n",
    "        'lora_target_modules': '[query_key_value]',\n",
    "        'lora_r': 16,\n",
    "        'batch_size': 8,\n",
    "        'micro_batch_size': 8,\n",
    "        'prompt_template_name': 'alpaca',\n",
    "        ## wandb setting\n",
    "        'wandb_project': 'jsquad-eval',\n",
    "        'wandb_run_name': base_job_name,\n",
    "        'wandb_watch': \"gradients\",  # options: false | gradients | all\n",
    "        'wandb_log_model': \"false\",  # options: false | true\n",
    "    }\n",
    "    environment = {\n",
    "        'WANDB_API_KEY': 'd184d8a3762bbf3cacf36fcf9780b6a58aba59b6'\n",
    "    }\n",
    "    huggingface_estimator = HuggingFace(\n",
    "        base_job_name=base_job_name,\n",
    "        role=role,\n",
    "        entry_point='finetune.py',\n",
    "        source_dir='./scripts/code',\n",
    "        instance_type='ml.g5.2xlarge',\n",
    "        instance_count=1,\n",
    "        volume_size=200,\n",
    "        transformers_version='4.26',\n",
    "        pytorch_version='1.13',\n",
    "        py_version='py39',\n",
    "        # use_spot_instances=True,\n",
    "        # max_wait=86400,\n",
    "        hyperparameters=hyperparameters,\n",
    "        environment=environment,\n",
    "        metric_definitions=[{'Name': 'eval_loss', 'Regex': \"'eval_loss': (\\d\\.\\d+)\"},\n",
    "                            {'Name': 'train_loss', 'Regex': \"'loss': (\\d\\.\\d+)\"}],\n",
    "        # checkpoint_s3_uri=f\"s3://{bucket}/{base_job_name}/checkpoint/\",\n",
    "    )\n",
    "    huggingface_estimator.fit({'train': s3_uri},wait=False)"
   ]
  },
  {
   "cell_type": "markdown",
   "id": "4da2bced-bf47-403b-91ad-8b68a63190b8",
   "metadata": {},
   "source": [
    "---\n",
    "## 出来上がったモデルを評価"
   ]
  },
  {
   "cell_type": "code",
   "execution_count": null,
   "id": "dbe91ede-7abb-458d-ac18-1e57bd9eee5d",
   "metadata": {
    "tags": []
   },
   "outputs": [],
   "source": [
    "import boto3\n",
    "sagemaker = boto3.client('sagemaker')"
   ]
  },
  {
   "cell_type": "code",
   "execution_count": null,
   "id": "8d98a3b0-67c9-400b-a2f3-ad403eb82ede",
   "metadata": {
    "tags": []
   },
   "outputs": [],
   "source": [
    "training_jobs = []\n",
    "for training_job in sagemaker.list_training_jobs()['TrainingJobSummaries'][:split_num]:\n",
    "    training_jobs.append({\n",
    "        'TrainingJobName' : [training_job['TrainingJobName']]\n",
    "    })\n",
    "print(training_jobs)"
   ]
  },
  {
   "cell_type": "code",
   "execution_count": null,
   "id": "0fefb230-aa56-4469-a25e-c960758f06e1",
   "metadata": {
    "tags": []
   },
   "outputs": [],
   "source": [
    "# training 失敗発生時の書き換え\n",
    "training_job_names = [\n",
    "    'jsquad-eval-0-2023-11-15-05-29-12-947',\n",
    "    'jsquad-eval-1-2023-11-15-05-29-13-904',\n",
    "    'jsquad-eval-2-2023-11-15-05-29-16-366',\n",
    "    'jsquad-eval-3-2023-11-16-11-35-25-879',\n",
    "    'jsquad-eval-4-2023-11-15-05-29-18-049',\n",
    "]\n",
    "\n",
    "for i, training_job_name in enumerate(training_job_names):\n",
    "    training_jobs[i]['TrainingJobName'] = training_job_name"
   ]
  },
  {
   "cell_type": "code",
   "execution_count": null,
   "id": "2f096213-54cb-4b1d-86af-ecf56b87c306",
   "metadata": {
    "tags": []
   },
   "outputs": [],
   "source": [
    "for i, training_job in enumerate(training_jobs):\n",
    "    training_jobs[i]['S3ModelArtifacts'] = sagemaker.describe_training_job(\n",
    "        TrainingJobName=training_job['TrainingJobName'],\n",
    "    )['ModelArtifacts']['S3ModelArtifacts']"
   ]
  },
  {
   "cell_type": "code",
   "execution_count": null,
   "id": "6b158b9c-908f-46f3-9efb-18dc861b11f3",
   "metadata": {
    "tags": []
   },
   "outputs": [],
   "source": [
    "training_jobs"
   ]
  },
  {
   "cell_type": "code",
   "execution_count": null,
   "id": "52f424c0-8398-4fee-8a46-41633b805fc6",
   "metadata": {
    "scrolled": true,
    "tags": []
   },
   "outputs": [],
   "source": [
    "peft_path_list = []\n",
    "for i, training_job in enumerate(training_jobs):\n",
    "    model_uri = training_job['S3ModelArtifacts']\n",
    "    peft_path = f'{str(i).zfill(5)}'\n",
    "    peft_path_list.append(peft_path)\n",
    "    !mkdir -p {peft_path}\n",
    "    !aws s3 cp {model_uri} ./{peft_path}\n",
    "    !tar zxvf ./{peft_path}/model.tar.gz -C ./{peft_path}/\n",
    "    checkpoints=[]\n",
    "    for obj in os.listdir(f'./{peft_path}/'):\n",
    "        if 'checkpoint' in obj:\n",
    "            checkpoints.append(obj)\n",
    "        else:\n",
    "            print(f'del {obj}')\n",
    "            !rm -rf {obj}\n",
    "    max_point = 0\n",
    "    for checkpoint in checkpoints:\n",
    "        max_point = int(checkpoint.split('-')[-1]) if max_point < int(checkpoint.split('-')[-1]) else max_point\n",
    "    for checkpoint in checkpoints:\n",
    "        if max_point == int(checkpoint.split('-')[-1]):\n",
    "            print(max_point)\n",
    "            os.rename(f'./{peft_path}/{checkpoint}',f'./{peft_path}/peft')\n",
    "        else:\n",
    "            !rm -rf ./{peft_path}/{checkpoint}"
   ]
  },
  {
   "cell_type": "code",
   "execution_count": null,
   "id": "fb1db5f8-771b-4d07-b451-eb436da6aebe",
   "metadata": {
    "tags": []
   },
   "outputs": [],
   "source": [
    "peft_s3_list = []\n",
    "for peft_path in peft_path_list:\n",
    "    peft_s3_uri = sess.upload_data(\n",
    "        path=peft_path,\n",
    "        key_prefix=f'/jsquad/peft/{peft_path}'\n",
    "    )\n",
    "    peft_s3_list.append(peft_s3_uri)\n"
   ]
  },
  {
   "cell_type": "code",
   "execution_count": null,
   "id": "4ba66062-3db5-4c15-87f4-b9ad74f23190",
   "metadata": {
    "tags": []
   },
   "outputs": [],
   "source": [
    "pip install sagemaker-ssh-helper"
   ]
  },
  {
   "cell_type": "code",
   "execution_count": null,
   "id": "f9655ce8-198e-42ad-98a0-6ab4d9783e30",
   "metadata": {
    "scrolled": true,
    "tags": []
   },
   "outputs": [],
   "source": [
    "# from sagemaker_ssh_helper.wrapper import SSHEstimatorWrapper\n",
    "for i,s3_uri in enumerate(peft_s3_list):\n",
    "    base_job_name=f\"jsquad-eval-{str(i)}\"\n",
    "    huggingface_estimator = HuggingFace(\n",
    "        base_job_name=base_job_name,\n",
    "        role=role,\n",
    "        entry_point='entrypoint.py',\n",
    "        source_dir='./lm-evaluation-harness/',\n",
    "        instance_type='ml.g5.2xlarge',\n",
    "        instance_count=1,\n",
    "        volume_size=200,\n",
    "        transformers_version='4.28.1',\n",
    "        pytorch_version='2.0.0',\n",
    "        py_version='py310',\n",
    "        # dependencies=[SSHEstimatorWrapper.dependency_dir()],\n",
    "    )\n",
    "    # ssh_wrapper = SSHEstimatorWrapper.create(huggingface_estimator, connection_wait_time_seconds=3600) \n",
    "    huggingface_estimator.fit({'train': s3_uri},wait=False)\n",
    "    # instance_ids = ssh_wrapper.get_instance_ids(timeout_in_sec=900)  \n",
    "    # print(instance_ids)"
   ]
  },
  {
   "cell_type": "markdown",
   "id": "65290644-fad0-4a6d-a10f-ea237ac0fd9c",
   "metadata": {},
   "source": [
    "pip install -e \".[ja]\"\n",
    "pip install bitsandbytes\n",
    "pip install accelerate\n",
    "\n",
    "\n",
    "python main.py   --model hf-causal-experimental   --model_args pretrained=rinna/japanese-gpt-neox-3.6b,load_in_8bit=True,device_map_option=auto,dtype=float16,peft=../model_0/checkpoint-5000   --tasks 'jsquad-1.1-0.2'   --num_fewshot '1'   --device 'cuda'   --output_path 'result_0.json'"
   ]
  }
 ],
 "metadata": {
  "availableInstances": [
   {
    "_defaultOrder": 0,
    "_isFastLaunch": true,
    "category": "General purpose",
    "gpuNum": 0,
    "hideHardwareSpecs": false,
    "memoryGiB": 4,
    "name": "ml.t3.medium",
    "vcpuNum": 2
   },
   {
    "_defaultOrder": 1,
    "_isFastLaunch": false,
    "category": "General purpose",
    "gpuNum": 0,
    "hideHardwareSpecs": false,
    "memoryGiB": 8,
    "name": "ml.t3.large",
    "vcpuNum": 2
   },
   {
    "_defaultOrder": 2,
    "_isFastLaunch": false,
    "category": "General purpose",
    "gpuNum": 0,
    "hideHardwareSpecs": false,
    "memoryGiB": 16,
    "name": "ml.t3.xlarge",
    "vcpuNum": 4
   },
   {
    "_defaultOrder": 3,
    "_isFastLaunch": false,
    "category": "General purpose",
    "gpuNum": 0,
    "hideHardwareSpecs": false,
    "memoryGiB": 32,
    "name": "ml.t3.2xlarge",
    "vcpuNum": 8
   },
   {
    "_defaultOrder": 4,
    "_isFastLaunch": true,
    "category": "General purpose",
    "gpuNum": 0,
    "hideHardwareSpecs": false,
    "memoryGiB": 8,
    "name": "ml.m5.large",
    "vcpuNum": 2
   },
   {
    "_defaultOrder": 5,
    "_isFastLaunch": false,
    "category": "General purpose",
    "gpuNum": 0,
    "hideHardwareSpecs": false,
    "memoryGiB": 16,
    "name": "ml.m5.xlarge",
    "vcpuNum": 4
   },
   {
    "_defaultOrder": 6,
    "_isFastLaunch": false,
    "category": "General purpose",
    "gpuNum": 0,
    "hideHardwareSpecs": false,
    "memoryGiB": 32,
    "name": "ml.m5.2xlarge",
    "vcpuNum": 8
   },
   {
    "_defaultOrder": 7,
    "_isFastLaunch": false,
    "category": "General purpose",
    "gpuNum": 0,
    "hideHardwareSpecs": false,
    "memoryGiB": 64,
    "name": "ml.m5.4xlarge",
    "vcpuNum": 16
   },
   {
    "_defaultOrder": 8,
    "_isFastLaunch": false,
    "category": "General purpose",
    "gpuNum": 0,
    "hideHardwareSpecs": false,
    "memoryGiB": 128,
    "name": "ml.m5.8xlarge",
    "vcpuNum": 32
   },
   {
    "_defaultOrder": 9,
    "_isFastLaunch": false,
    "category": "General purpose",
    "gpuNum": 0,
    "hideHardwareSpecs": false,
    "memoryGiB": 192,
    "name": "ml.m5.12xlarge",
    "vcpuNum": 48
   },
   {
    "_defaultOrder": 10,
    "_isFastLaunch": false,
    "category": "General purpose",
    "gpuNum": 0,
    "hideHardwareSpecs": false,
    "memoryGiB": 256,
    "name": "ml.m5.16xlarge",
    "vcpuNum": 64
   },
   {
    "_defaultOrder": 11,
    "_isFastLaunch": false,
    "category": "General purpose",
    "gpuNum": 0,
    "hideHardwareSpecs": false,
    "memoryGiB": 384,
    "name": "ml.m5.24xlarge",
    "vcpuNum": 96
   },
   {
    "_defaultOrder": 12,
    "_isFastLaunch": false,
    "category": "General purpose",
    "gpuNum": 0,
    "hideHardwareSpecs": false,
    "memoryGiB": 8,
    "name": "ml.m5d.large",
    "vcpuNum": 2
   },
   {
    "_defaultOrder": 13,
    "_isFastLaunch": false,
    "category": "General purpose",
    "gpuNum": 0,
    "hideHardwareSpecs": false,
    "memoryGiB": 16,
    "name": "ml.m5d.xlarge",
    "vcpuNum": 4
   },
   {
    "_defaultOrder": 14,
    "_isFastLaunch": false,
    "category": "General purpose",
    "gpuNum": 0,
    "hideHardwareSpecs": false,
    "memoryGiB": 32,
    "name": "ml.m5d.2xlarge",
    "vcpuNum": 8
   },
   {
    "_defaultOrder": 15,
    "_isFastLaunch": false,
    "category": "General purpose",
    "gpuNum": 0,
    "hideHardwareSpecs": false,
    "memoryGiB": 64,
    "name": "ml.m5d.4xlarge",
    "vcpuNum": 16
   },
   {
    "_defaultOrder": 16,
    "_isFastLaunch": false,
    "category": "General purpose",
    "gpuNum": 0,
    "hideHardwareSpecs": false,
    "memoryGiB": 128,
    "name": "ml.m5d.8xlarge",
    "vcpuNum": 32
   },
   {
    "_defaultOrder": 17,
    "_isFastLaunch": false,
    "category": "General purpose",
    "gpuNum": 0,
    "hideHardwareSpecs": false,
    "memoryGiB": 192,
    "name": "ml.m5d.12xlarge",
    "vcpuNum": 48
   },
   {
    "_defaultOrder": 18,
    "_isFastLaunch": false,
    "category": "General purpose",
    "gpuNum": 0,
    "hideHardwareSpecs": false,
    "memoryGiB": 256,
    "name": "ml.m5d.16xlarge",
    "vcpuNum": 64
   },
   {
    "_defaultOrder": 19,
    "_isFastLaunch": false,
    "category": "General purpose",
    "gpuNum": 0,
    "hideHardwareSpecs": false,
    "memoryGiB": 384,
    "name": "ml.m5d.24xlarge",
    "vcpuNum": 96
   },
   {
    "_defaultOrder": 20,
    "_isFastLaunch": false,
    "category": "General purpose",
    "gpuNum": 0,
    "hideHardwareSpecs": true,
    "memoryGiB": 0,
    "name": "ml.geospatial.interactive",
    "supportedImageNames": [
     "sagemaker-geospatial-v1-0"
    ],
    "vcpuNum": 0
   },
   {
    "_defaultOrder": 21,
    "_isFastLaunch": true,
    "category": "Compute optimized",
    "gpuNum": 0,
    "hideHardwareSpecs": false,
    "memoryGiB": 4,
    "name": "ml.c5.large",
    "vcpuNum": 2
   },
   {
    "_defaultOrder": 22,
    "_isFastLaunch": false,
    "category": "Compute optimized",
    "gpuNum": 0,
    "hideHardwareSpecs": false,
    "memoryGiB": 8,
    "name": "ml.c5.xlarge",
    "vcpuNum": 4
   },
   {
    "_defaultOrder": 23,
    "_isFastLaunch": false,
    "category": "Compute optimized",
    "gpuNum": 0,
    "hideHardwareSpecs": false,
    "memoryGiB": 16,
    "name": "ml.c5.2xlarge",
    "vcpuNum": 8
   },
   {
    "_defaultOrder": 24,
    "_isFastLaunch": false,
    "category": "Compute optimized",
    "gpuNum": 0,
    "hideHardwareSpecs": false,
    "memoryGiB": 32,
    "name": "ml.c5.4xlarge",
    "vcpuNum": 16
   },
   {
    "_defaultOrder": 25,
    "_isFastLaunch": false,
    "category": "Compute optimized",
    "gpuNum": 0,
    "hideHardwareSpecs": false,
    "memoryGiB": 72,
    "name": "ml.c5.9xlarge",
    "vcpuNum": 36
   },
   {
    "_defaultOrder": 26,
    "_isFastLaunch": false,
    "category": "Compute optimized",
    "gpuNum": 0,
    "hideHardwareSpecs": false,
    "memoryGiB": 96,
    "name": "ml.c5.12xlarge",
    "vcpuNum": 48
   },
   {
    "_defaultOrder": 27,
    "_isFastLaunch": false,
    "category": "Compute optimized",
    "gpuNum": 0,
    "hideHardwareSpecs": false,
    "memoryGiB": 144,
    "name": "ml.c5.18xlarge",
    "vcpuNum": 72
   },
   {
    "_defaultOrder": 28,
    "_isFastLaunch": false,
    "category": "Compute optimized",
    "gpuNum": 0,
    "hideHardwareSpecs": false,
    "memoryGiB": 192,
    "name": "ml.c5.24xlarge",
    "vcpuNum": 96
   },
   {
    "_defaultOrder": 29,
    "_isFastLaunch": true,
    "category": "Accelerated computing",
    "gpuNum": 1,
    "hideHardwareSpecs": false,
    "memoryGiB": 16,
    "name": "ml.g4dn.xlarge",
    "vcpuNum": 4
   },
   {
    "_defaultOrder": 30,
    "_isFastLaunch": false,
    "category": "Accelerated computing",
    "gpuNum": 1,
    "hideHardwareSpecs": false,
    "memoryGiB": 32,
    "name": "ml.g4dn.2xlarge",
    "vcpuNum": 8
   },
   {
    "_defaultOrder": 31,
    "_isFastLaunch": false,
    "category": "Accelerated computing",
    "gpuNum": 1,
    "hideHardwareSpecs": false,
    "memoryGiB": 64,
    "name": "ml.g4dn.4xlarge",
    "vcpuNum": 16
   },
   {
    "_defaultOrder": 32,
    "_isFastLaunch": false,
    "category": "Accelerated computing",
    "gpuNum": 1,
    "hideHardwareSpecs": false,
    "memoryGiB": 128,
    "name": "ml.g4dn.8xlarge",
    "vcpuNum": 32
   },
   {
    "_defaultOrder": 33,
    "_isFastLaunch": false,
    "category": "Accelerated computing",
    "gpuNum": 4,
    "hideHardwareSpecs": false,
    "memoryGiB": 192,
    "name": "ml.g4dn.12xlarge",
    "vcpuNum": 48
   },
   {
    "_defaultOrder": 34,
    "_isFastLaunch": false,
    "category": "Accelerated computing",
    "gpuNum": 1,
    "hideHardwareSpecs": false,
    "memoryGiB": 256,
    "name": "ml.g4dn.16xlarge",
    "vcpuNum": 64
   },
   {
    "_defaultOrder": 35,
    "_isFastLaunch": false,
    "category": "Accelerated computing",
    "gpuNum": 1,
    "hideHardwareSpecs": false,
    "memoryGiB": 61,
    "name": "ml.p3.2xlarge",
    "vcpuNum": 8
   },
   {
    "_defaultOrder": 36,
    "_isFastLaunch": false,
    "category": "Accelerated computing",
    "gpuNum": 4,
    "hideHardwareSpecs": false,
    "memoryGiB": 244,
    "name": "ml.p3.8xlarge",
    "vcpuNum": 32
   },
   {
    "_defaultOrder": 37,
    "_isFastLaunch": false,
    "category": "Accelerated computing",
    "gpuNum": 8,
    "hideHardwareSpecs": false,
    "memoryGiB": 488,
    "name": "ml.p3.16xlarge",
    "vcpuNum": 64
   },
   {
    "_defaultOrder": 38,
    "_isFastLaunch": false,
    "category": "Accelerated computing",
    "gpuNum": 8,
    "hideHardwareSpecs": false,
    "memoryGiB": 768,
    "name": "ml.p3dn.24xlarge",
    "vcpuNum": 96
   },
   {
    "_defaultOrder": 39,
    "_isFastLaunch": false,
    "category": "Memory Optimized",
    "gpuNum": 0,
    "hideHardwareSpecs": false,
    "memoryGiB": 16,
    "name": "ml.r5.large",
    "vcpuNum": 2
   },
   {
    "_defaultOrder": 40,
    "_isFastLaunch": false,
    "category": "Memory Optimized",
    "gpuNum": 0,
    "hideHardwareSpecs": false,
    "memoryGiB": 32,
    "name": "ml.r5.xlarge",
    "vcpuNum": 4
   },
   {
    "_defaultOrder": 41,
    "_isFastLaunch": false,
    "category": "Memory Optimized",
    "gpuNum": 0,
    "hideHardwareSpecs": false,
    "memoryGiB": 64,
    "name": "ml.r5.2xlarge",
    "vcpuNum": 8
   },
   {
    "_defaultOrder": 42,
    "_isFastLaunch": false,
    "category": "Memory Optimized",
    "gpuNum": 0,
    "hideHardwareSpecs": false,
    "memoryGiB": 128,
    "name": "ml.r5.4xlarge",
    "vcpuNum": 16
   },
   {
    "_defaultOrder": 43,
    "_isFastLaunch": false,
    "category": "Memory Optimized",
    "gpuNum": 0,
    "hideHardwareSpecs": false,
    "memoryGiB": 256,
    "name": "ml.r5.8xlarge",
    "vcpuNum": 32
   },
   {
    "_defaultOrder": 44,
    "_isFastLaunch": false,
    "category": "Memory Optimized",
    "gpuNum": 0,
    "hideHardwareSpecs": false,
    "memoryGiB": 384,
    "name": "ml.r5.12xlarge",
    "vcpuNum": 48
   },
   {
    "_defaultOrder": 45,
    "_isFastLaunch": false,
    "category": "Memory Optimized",
    "gpuNum": 0,
    "hideHardwareSpecs": false,
    "memoryGiB": 512,
    "name": "ml.r5.16xlarge",
    "vcpuNum": 64
   },
   {
    "_defaultOrder": 46,
    "_isFastLaunch": false,
    "category": "Memory Optimized",
    "gpuNum": 0,
    "hideHardwareSpecs": false,
    "memoryGiB": 768,
    "name": "ml.r5.24xlarge",
    "vcpuNum": 96
   },
   {
    "_defaultOrder": 47,
    "_isFastLaunch": false,
    "category": "Accelerated computing",
    "gpuNum": 1,
    "hideHardwareSpecs": false,
    "memoryGiB": 16,
    "name": "ml.g5.xlarge",
    "vcpuNum": 4
   },
   {
    "_defaultOrder": 48,
    "_isFastLaunch": false,
    "category": "Accelerated computing",
    "gpuNum": 1,
    "hideHardwareSpecs": false,
    "memoryGiB": 32,
    "name": "ml.g5.2xlarge",
    "vcpuNum": 8
   },
   {
    "_defaultOrder": 49,
    "_isFastLaunch": false,
    "category": "Accelerated computing",
    "gpuNum": 1,
    "hideHardwareSpecs": false,
    "memoryGiB": 64,
    "name": "ml.g5.4xlarge",
    "vcpuNum": 16
   },
   {
    "_defaultOrder": 50,
    "_isFastLaunch": false,
    "category": "Accelerated computing",
    "gpuNum": 1,
    "hideHardwareSpecs": false,
    "memoryGiB": 128,
    "name": "ml.g5.8xlarge",
    "vcpuNum": 32
   },
   {
    "_defaultOrder": 51,
    "_isFastLaunch": false,
    "category": "Accelerated computing",
    "gpuNum": 1,
    "hideHardwareSpecs": false,
    "memoryGiB": 256,
    "name": "ml.g5.16xlarge",
    "vcpuNum": 64
   },
   {
    "_defaultOrder": 52,
    "_isFastLaunch": false,
    "category": "Accelerated computing",
    "gpuNum": 4,
    "hideHardwareSpecs": false,
    "memoryGiB": 192,
    "name": "ml.g5.12xlarge",
    "vcpuNum": 48
   },
   {
    "_defaultOrder": 53,
    "_isFastLaunch": false,
    "category": "Accelerated computing",
    "gpuNum": 4,
    "hideHardwareSpecs": false,
    "memoryGiB": 384,
    "name": "ml.g5.24xlarge",
    "vcpuNum": 96
   },
   {
    "_defaultOrder": 54,
    "_isFastLaunch": false,
    "category": "Accelerated computing",
    "gpuNum": 8,
    "hideHardwareSpecs": false,
    "memoryGiB": 768,
    "name": "ml.g5.48xlarge",
    "vcpuNum": 192
   },
   {
    "_defaultOrder": 55,
    "_isFastLaunch": false,
    "category": "Accelerated computing",
    "gpuNum": 8,
    "hideHardwareSpecs": false,
    "memoryGiB": 1152,
    "name": "ml.p4d.24xlarge",
    "vcpuNum": 96
   },
   {
    "_defaultOrder": 56,
    "_isFastLaunch": false,
    "category": "Accelerated computing",
    "gpuNum": 8,
    "hideHardwareSpecs": false,
    "memoryGiB": 1152,
    "name": "ml.p4de.24xlarge",
    "vcpuNum": 96
   }
  ],
  "instance_type": "ml.t3.medium",
  "kernelspec": {
   "display_name": "Python 3 (Data Science 3.0)",
   "language": "python",
   "name": "python3__SAGEMAKER_INTERNAL__arn:aws:sagemaker:us-east-1:081325390199:image/sagemaker-data-science-310-v1"
  },
  "language_info": {
   "codemirror_mode": {
    "name": "ipython",
    "version": 3
   },
   "file_extension": ".py",
   "mimetype": "text/x-python",
   "name": "python",
   "nbconvert_exporter": "python",
   "pygments_lexer": "ipython3",
   "version": "3.10.6"
  }
 },
 "nbformat": 4,
 "nbformat_minor": 5
}
